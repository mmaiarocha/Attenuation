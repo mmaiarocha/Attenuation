{
 "cells": [
  {
   "cell_type": "markdown",
   "metadata": {},
   "source": [
    "Universidade Federal do Rio Grande do Sul (UFRGS)   \n",
    "Programa de Pós-Graduação em Engenharia Civil (PPGEC)   \n",
    "\n",
    "# Project PETROBRAS (2018/00147-5): \n",
    "## Attenuation of dynamic loading along mooring lines embedded in clay\n",
    "\n",
    "---\n",
    "_Prof. Marcelo M. Rocha, Dr.techn._ [(ORCID)](https://orcid.org/0000-0001-5640-1020)  \n",
    "Porto Alegre, RS, Brazil \n",
    "___\n",
    "\n",
    "[1.   Introduction](https://nbviewer.jupyter.org/github/mmaiarocha/Attenuation/blob/master/01_Introduction.ipynb?flush_cache=true)  \n",
    "[2.   Reduced model scaling](https://nbviewer.jupyter.org/github/mmaiarocha/Attenuation/blob/master/02_Reduced_model.ipynb?flush_cache=true)  \n",
    "[3.   Typical soil](https://nbviewer.jupyter.org/github/mmaiarocha/Attenuation/blob/master/03_Typical_soil.ipynb?flush_cache=true)  \n",
    "[4.   The R4 studless 120mm chain](https://nbviewer.jupyter.org/github/mmaiarocha/Attenuation/blob/master/04_R4_studless_chain.ipynb?flush_cache=true)  \n",
    "[5.   Dynamic load definition](https://nbviewer.jupyter.org/github/mmaiarocha/Attenuation/blob/master/05_Dynamic_load.ipynb?flush_cache=true)  \n",
    "[6.   Design of chain anchoring system](https://nbviewer.jupyter.org/github/mmaiarocha/Attenuation/blob/master/06_Chain_anchor.ipynb?flush_cache=true)  \n",
    "[7.   Design of uniaxial load cell with inclinometer](https://nbviewer.jupyter.org/github/mmaiarocha/Attenuation/blob/master/07_Load_cell.ipynb?flush_cache=true)  \n",
    "[8.   Location of experimental sites](https://nbviewer.jupyter.org/github/mmaiarocha/Attenuation/blob/master/08_Experimental_sites.ipynb?flush_cache=true) \n"
   ]
  },
  {
   "cell_type": "code",
   "execution_count": 1,
   "metadata": {},
   "outputs": [],
   "source": [
    "# Importing Python modules required for this notebook\n",
    "# (this cell must be executed with \"shift+enter\" before any other Python cell)\n",
    "import numpy as np\n",
    "import pandas as pd\n",
    "import matplotlib.pyplot as plt"
   ]
  },
  {
   "cell_type": "markdown",
   "metadata": {},
   "source": [
    "### 4. The R4 studless 120mm chain\n",
    "\n",
    "The reference chain defined for the project is the R4 studless 120mm chain. Its \n",
    "mechanical properties can be found in the catalog from _Brasil Amarras_ as reproduced\n",
    "below.\n",
    "\n",
    "<img src=\"resources/Brasil_Amarras_table.png\" alt=\"Brasil Amarras Table\" width=\"800\">\n",
    "\n",
    "The table above indicates that the mass per unit length for the R4 studless 120mm\n",
    "is $\\mu_L = 288{\\rm kg/m}$. The chain strength is not relevant for the present study.\n",
    "The dimensions of each link is proportional to the reference diameter $d = 120{\\rm mm}$,\n",
    "as illustrated below.\n",
    "\n",
    "<img src=\"resources/Brasil_Amarras_dimensions.png\" alt=\"Chain Dimensions\" width=\"640\">\n"
   ]
  },
  {
   "cell_type": "markdown",
   "metadata": {},
   "source": [
    "The choice of a comercial chain to be made for modelling the prototype is of great\n",
    "importance, for it will directly affects the load attenuation to be measured. \n",
    "The table below indicates the available options.\n",
    "\n",
    "<img src=\"resources/Comercial_chains.png\" alt=\"Comercial chains\" width=\"480\">\n",
    "\n",
    "From the options above, one can se that the best approximation for length scale\n",
    "$\\lambda_L = 1:10$ is the 11mm entry. Although slightly thinner, the mass per unit\n",
    "length is $\\mu_L = 2.70{\\rm kg/m}$, what quite close to the value $2.88{\\rm kg/m}$ resulting from the application of scale $λ_{μ_L} = 1:100$. \n",
    "\n",
    "For keeping the possibility of comparing results, two chain grades have be acquired, as\n",
    "shown below:\n",
    "\n",
    "<img src=\"resources/Selected_chains.jpg\" alt=\"Selected chains\" width=\"480\">\n",
    "\n",
    "For connecting the chain to the load cells at both ends, the following steel shackle\n",
    "has been selected:\n",
    "\n",
    "<img src=\"resources/shackle.png\" alt=\"Selected shackle\" width=\"600\">\n"
   ]
  },
  {
   "cell_type": "code",
   "execution_count": null,
   "metadata": {},
   "outputs": [],
   "source": []
  }
 ],
 "metadata": {
  "kernelspec": {
   "display_name": "Python [default]",
   "language": "python",
   "name": "python3"
  },
  "language_info": {
   "codemirror_mode": {
    "name": "ipython",
    "version": 3
   },
   "file_extension": ".py",
   "mimetype": "text/x-python",
   "name": "python",
   "nbconvert_exporter": "python",
   "pygments_lexer": "ipython3",
   "version": "3.5.5"
  }
 },
 "nbformat": 4,
 "nbformat_minor": 2
}
