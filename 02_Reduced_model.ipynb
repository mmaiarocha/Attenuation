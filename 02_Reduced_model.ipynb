{
 "cells": [
  {
   "cell_type": "markdown",
   "metadata": {},
   "source": [
    "Universidade Federal do Rio Grande do Sul (UFRGS)   \n",
    "Programa de Pós-Graduação em Engenharia Civil (PPGEC)   \n",
    "\n",
    "# Project PETROBRAS (2018/00147-5): \n",
    "## Attenuation of dynamic loading along mooring lines embedded in clay\n",
    "\n",
    "---\n",
    "_Prof. Marcelo M. Rocha, Dr.techn._ [(ORCID)](https://orcid.org/0000-0001-5640-1020)  \n",
    "Porto Alegre, RS, Brazil \n",
    "___\n",
    "\n",
    "[1.   Introduction](https://nbviewer.jupyter.org/github/mmaiarocha/Attenuation/blob/master/01_Introduction.ipynb?flush_cache=true)  \n",
    "[2.   Reduced model scaling](https://nbviewer.jupyter.org/github/mmaiarocha/Attenuation/blob/master/02_Reduced_model.ipynb?flush_cache=true)  \n",
    "[3.   Typical soil](https://nbviewer.jupyter.org/github/mmaiarocha/Attenuation/blob/master/03_Typical_soil.ipynb?flush_cache=true)  \n",
    "[4.   The R4 studless 120mm chain](https://nbviewer.jupyter.org/github/mmaiarocha/Attenuation/blob/master/04_R4_studless_chain.ipynb?flush_cache=true)  \n",
    "[5.   Dynamic load definition](https://nbviewer.jupyter.org/github/mmaiarocha/Attenuation/blob/master/05_Dynamic_load.ipynb?flush_cache=true)  \n",
    "[6.   Design of chain anchoring system](https://nbviewer.jupyter.org/github/mmaiarocha/Attenuation/blob/master/06_Chain_anchor.ipynb?flush_cache=true)  \n",
    "[7.   Design of uniaxial load cell with inclinometer](https://nbviewer.jupyter.org/github/mmaiarocha/Attenuation/blob/master/07_Load_cell.ipynb?flush_cache=true)  \n"
   ]
  },
  {
   "cell_type": "code",
   "execution_count": 1,
   "metadata": {},
   "outputs": [
    {
     "name": "stdout",
     "output_type": "stream",
     "text": [
      "                       descriptor   latex  L  M  T\n",
      "a                    Acceleration       a  1  0 -2\n",
      "α            Angular acceleration  \\alpha  0  0 -2\n",
      "ω               Angular frequency  \\omega  0  0 -1\n",
      "A                            Area       A  2  0  0\n",
      "EI         Beam bending stiffness      EI  0  1 -2\n",
      "GAs          Beam shear stiffness    GA_s  2  1 -2\n",
      "ρ                         Density    \\rho -3  1  0\n",
      "μ               Dynamic viscosity     \\mu -1  1 -1\n",
      "F                           Force       F  1  1 -2\n",
      "f                       frequency       f  0  0 -1\n",
      "υ             Kinematic viscosity     \\nu  2  0 -1\n",
      "L                          Length       L  1  0  0\n",
      "m                            Mass       m  0  1  0\n",
      "im   Mass inertia per unit length     i_m  1  1  0\n",
      "μA             Mass per unit area   \\mu_A -2  1  0\n",
      "μL           Mass per unit length   \\mu_L -1  1  0\n",
      "M                          Moment       M  2  1 -2\n",
      "I               Moment of inertia       I  4  0  0\n",
      "W               Resistent modulus       W  3  0  0\n",
      "Im        Rotational mass inertia     I_m  2  1  0\n",
      "k                Spring stiffness       k  0  1 -2\n",
      "σ                          Stress  \\sigma -1  1 -2\n",
      "t                            Time       t  0  0  1\n",
      "v                        Velocity       v  1  0 -1\n",
      "c                 Viscous damping       c  0  1 -1\n",
      "V                          Volume       V  3  0  0\n"
     ]
    }
   ],
   "source": [
    "# Importing Python modules required for this notebook\n",
    "# (this cell must be executed with \"shift+enter\" before any other Python cell)\n",
    "import numpy as np\n",
    "import pandas as pd\n",
    "import matplotlib.pyplot as plt\n",
    "\n",
    "# Importing \"pandas dataframe\" with dimension exponents for scales calculation\n",
    "DimData = pd.read_excel('resources/DimData.xlsx')\n",
    "print(DimData)"
   ]
  },
  {
   "cell_type": "markdown",
   "metadata": {},
   "source": [
    "## 2. Reduced model scaling   \n",
    "[(Link for PEC00144 class on Dimensional Analysis)](https://nbviewer.jupyter.org/github/mmaiarocha/PEC00144/blob/master/1_Dimensional_Analysis.ipynb)\n",
    "\n",
    "Experiments must be designed with a reduced length scale specified as $\\lambda_L = 1:10$. \n",
    "By considering that the soil in the experimental field satisfactorily resembles the \n",
    "specified _typical soil_ (see [section 3](https://nbviewer.jupyter.org/urls/dl.dropbox.com/s/z35uz1iz5be4mq2/03_Typical_soil.ipynb?flush_cache=true)), the further scale-restricted \n",
    "quantities are the soil density, $\\rho_{\\rm soil} = 1600{\\rm kg/m^3}$ with scale $\\lambda_\\rho = 1:1$, \n",
    "and the gravity acceleration, $g = 9.81{\\rm m/s^2}$ also with scale $\\lambda_g = 1:1$. \n",
    "All other quantities have derived scales that must be calculated and used for the \n",
    "interpretation of experimental results. \n",
    "\n",
    "The choice of these three control quantities, $L$, $\\rho$, and $g$, is based on the very\n",
    "basic assumption that _the most important parameter governing the soil reaction for large\n",
    "displacements is the undrained shear resistance_, $s_{\\rm u}$. This parameter is assumed\n",
    "to have the general form:\n",
    "\n",
    "$$ s_{\\rm u} = k\\rho_{\\rm soil} g z $$\n",
    "\n",
    "where $k$ is a non-dimensional factor and $z$ the depth measured from soil surface.\n",
    "Under this assumption, the scale of $s_{\\rm u}$ will be correct at any depth $z$.\n",
    "\n",
    "The three control quantities allow the definition of an new dimensional base to be used \n",
    "for calculating the derived scales of further relevant quantities. \n",
    "Dimension exponents are read from ``pandas`` dataframe ``DimData``:\n"
   ]
  },
  {
   "cell_type": "code",
   "execution_count": 5,
   "metadata": {},
   "outputs": [
    {
     "name": "stdout",
     "output_type": "stream",
     "text": [
      "     L  M  T\n",
      "L    1  0  0\n",
      "rho -3  1  0\n",
      "α    0  0 -2\n"
     ]
    }
   ],
   "source": [
    "ABC  = ['L', 'rho',   'α']     # control quantities are length, density and acceleration\n",
    "LMT  = ['L',   'M',   'T']     # dimension exponents (last three columns of DimData dataframe)\n",
    "\n",
    "base =  DimData.loc[ABC, LMT];   print(base)"
   ]
  },
  {
   "cell_type": "markdown",
   "metadata": {},
   "source": [
    "Scales calculation requires the inversion of this new base, what is carried out with \n",
    "``numpy`` method ``linalg.inv``:"
   ]
  },
  {
   "cell_type": "code",
   "execution_count": 3,
   "metadata": {},
   "outputs": [
    {
     "name": "stdout",
     "output_type": "stream",
     "text": [
      "[[ 1.  -0.  -0. ]\n",
      " [ 3.   1.   0. ]\n",
      " [ 0.5 -0.  -0.5]]\n"
     ]
    }
   ],
   "source": [
    "i_base = np.linalg.inv(base.values);   print(i_base)"
   ]
  },
  {
   "cell_type": "markdown",
   "metadata": {},
   "source": [
    "Now we specify a list of all quantities for which derived scales are to be calculated. \n",
    "We choose, for instance:\n",
    " \n",
    "* Force, $F$, (for chain tension),\n",
    "* Frequency, $f$, (for dynamic loading spectral density),\n",
    "* Mass per unit length, $\\mu_L$, (for specifying the grade of model chain),\n",
    "* Stress, $\\sigma$, (for soil resistance)  \n",
    " \n",
    "A list with the identifiers of these quantities is used to read their dimension \n",
    "exponents from ``DimData`` dataframe, given the problem dimension matrix also as\n",
    "a dataframe:"
   ]
  },
  {
   "cell_type": "code",
   "execution_count": 4,
   "metadata": {},
   "outputs": [
    {
     "name": "stdout",
     "output_type": "stream",
     "text": [
      "       L  M  T\n",
      "F      1  1 -2\n",
      "f      0  0 -1\n",
      "mL    -1  1  0\n",
      "sigma -1  1 -2\n"
     ]
    }
   ],
   "source": [
    "param  = ['F', 'f', 'mL', 'sigma']      # parameters which scales must be calculated\n",
    "npar   = len(param)                     # number of parameters in the previous list\n",
    "\n",
    "DimMat =  DimData.loc[param, LMT];   print(DimMat)"
   ]
  },
  {
   "cell_type": "markdown",
   "metadata": {},
   "source": [
    "The code snipet below calculates a new dimension matrix with the dimension exponents \n",
    "corresponding to the new base. This new matrix is directly formatted as a ``pandas`` dataframe:"
   ]
  },
  {
   "cell_type": "code",
   "execution_count": 5,
   "metadata": {},
   "outputs": [
    {
     "name": "stdout",
     "output_type": "stream",
     "text": [
      "         L  rho    a\n",
      "F      3.0  1.0  1.0\n",
      "f     -0.5  0.0  0.5\n",
      "mL     2.0  1.0  0.0\n",
      "sigma  1.0  1.0  1.0\n"
     ]
    }
   ],
   "source": [
    "NewMat = pd.DataFrame(data    = np.dot(DimMat,i_base),\n",
    "                      index   = DimMat.index,\n",
    "                      columns = ABC)\n",
    "print(NewMat)"
   ]
  },
  {
   "cell_type": "markdown",
   "metadata": {},
   "source": [
    "To check the results above, let us take a look in the force dimensions:\n",
    " \n",
    "\\begin{align*}\n",
    " [F] &= [L]^3 \\, [\\rho]^1 \\, [a]^1 \\\\\n",
    "     &= {\\rm (m)^3 \\, (kg/m^3)^1 \\, (m/s^2)^1} \\\\\n",
    "     &= {\\rm kg \\, m \\, / \\, s^2} \\\\\n",
    "     &= {\\rm N}\n",
    "\\end{align*} \n",
    "\n",
    "where $[\\cdot]$ means ''unit of''. One may conclude that the computational procedure is _ok_, \n",
    "despite its conciseness.\n",
    "\n",
    "The next step is the especification of experimental scales for the control quantities, as\n",
    "previously discussed:"
   ]
  },
  {
   "cell_type": "code",
   "execution_count": 6,
   "metadata": {},
   "outputs": [],
   "source": [
    "lbd_length  =  1/10      # length scale for the reduced model\n",
    "lbd_density =  1/1       # same soil, with same density\n",
    "lbd_accel   =  1/1       # gravity will not be changed!\n",
    "\n",
    "scales      =  np.tile([lbd_length, lbd_density, lbd_accel],(npar,1))"
   ]
  },
  {
   "cell_type": "markdown",
   "metadata": {},
   "source": [
    "A last code line calculates the derived scales and includes them as an additional column in\n",
    "dataframe ``NewMat``:"
   ]
  },
  {
   "cell_type": "code",
   "execution_count": 7,
   "metadata": {},
   "outputs": [
    {
     "name": "stdout",
     "output_type": "stream",
     "text": [
      "         L  rho    a     scale\n",
      "F      3.0  1.0  1.0  0.001000\n",
      "f     -0.5  0.0  0.5  3.162278\n",
      "mL     2.0  1.0  0.0  0.010000\n",
      "sigma  1.0  1.0  1.0  0.100000\n"
     ]
    }
   ],
   "source": [
    "NewMat['scale'] = np.prod(scales**NewMat[ABC], axis=1);   print(NewMat)"
   ]
  },
  {
   "cell_type": "markdown",
   "metadata": {},
   "source": [
    "where it can be seen, for instance, that the forces in the reduced model will be \n",
    "one thousandth of the real scale forces. On the other hand, model time passes $\\approx$3.16 times\n",
    "faster, what makes frequencies the same amount higher. \n",
    "\n",
    "The stress scale calculated above applies to the undrained soil shear resistance, $s_{\\rm u}$, \n",
    "for this resistance depends on the product of the base quantities. However, elastic stresses\n",
    "and stiffness properties (Young's and shear modulae) _are not expected to follow this\n",
    "scale_. It is important to keep in mind that these quantities are not likely to be relevant\n",
    "for the experimental results, for large plastic displacements are to dominate the process.\n",
    "\n",
    "These scales will be used in the following sections to design all experimental features."
   ]
  }
 ],
 "metadata": {
  "kernelspec": {
   "display_name": "Python 3",
   "language": "python",
   "name": "python3"
  },
  "language_info": {
   "codemirror_mode": {
    "name": "ipython",
    "version": 3
   },
   "file_extension": ".py",
   "mimetype": "text/x-python",
   "name": "python",
   "nbconvert_exporter": "python",
   "pygments_lexer": "ipython3",
   "version": "3.7.1"
  }
 },
 "nbformat": 4,
 "nbformat_minor": 2
}
