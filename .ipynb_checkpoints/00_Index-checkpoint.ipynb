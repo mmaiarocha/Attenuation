{
 "cells": [
  {
   "cell_type": "markdown",
   "metadata": {},
   "source": [
    "Universidade Federal do Rio Grande do Sul (UFRGS)   \n",
    "Programa de Pós-Graduação em Engenharia Civil (PPGEC)   \n",
    "\n",
    "# Projeto PETROBRAS 2019: \n",
    "## Atenuação da carga dinâmica em linhas de ancoragem\n",
    "\n",
    "---\n",
    "_Prof. Marcelo M. Rocha, Dr.techn._ [(ORCID)](https://orcid.org/0000-0001-5640-1020)  \n",
    "Porto Alegre, RS, Brazil \n",
    "___\n",
    "\n",
    "[1.   Introduction](https://nbviewer.jupyter.org/urls/dl.dropbox.com/s/5l0ab5z67feeei2/00_Index.ipynb?flushcache=true)  \n",
    "[2.   Reduced model scaling](https://nbviewer.jupyter.org/urls/dl.dropbox.com/s/3tyjvh3s5n12a8w/02_Reduced_model_scaling.ipynb)  \n",
    "[3.   Typical soil](#section_3)  \n",
    "[4.   The R4 studless 120mm chain](#section_4)  \n",
    "[5.   Dynamic load definition](#section_5)  \n",
    "\n",
    "\n",
    "(_[Link to Jupyter Notebook viewer](https://nbviewer.jupyter.org/)_)\n"
   ]
  },
  {
   "cell_type": "markdown",
   "metadata": {},
   "source": [
    "## 1. Introduction\n",
    "\n",
    "\n",
    "\n",
    "\n"
   ]
  }
 ],
 "metadata": {
  "kernelspec": {
   "display_name": "Python 3",
   "language": "python",
   "name": "python3"
  },
  "language_info": {
   "codemirror_mode": {
    "name": "ipython",
    "version": 3
   },
   "file_extension": ".py",
   "mimetype": "text/x-python",
   "name": "python",
   "nbconvert_exporter": "python",
   "pygments_lexer": "ipython3",
   "version": "3.7.1"
  }
 },
 "nbformat": 4,
 "nbformat_minor": 2
}
