{
 "cells": [
  {
   "cell_type": "markdown",
   "metadata": {},
   "source": [
    "Universidade Federal do Rio Grande do Sul (UFRGS)   \n",
    "Programa de Pós-Graduação em Engenharia Civil (PPGEC)   \n",
    "\n",
    "# Project PETROBRAS (2018/00147-5): \n",
    "## Attenuation of dynamic loading along mooring lines embedded in clay\n",
    "\n",
    "---\n",
    "_Prof. Marcelo M. Rocha, Dr.techn._ [(ORCID)](https://orcid.org/0000-0001-5640-1020)  \n",
    "Porto Alegre, RS, Brazil \n",
    "___\n",
    "\n",
    "[1.   Introduction](https://nbviewer.jupyter.org/urls/dl.dropbox.com/s/5l0ab5z67feeei2/01_Introduction.ipynb?flush_cache=true)  \n",
    "[2.   Reduced model scaling](https://nbviewer.jupyter.org/urls/dl.dropbox.com/s/3tyjvh3s5n12a8w/02_Reduced_model_scaling.ipynb?flush_cache=true)  \n",
    "[3.   Typical soil](https://nbviewer.jupyter.org/urls/dl.dropbox.com/s/3tyjvh3s5n12a8w/03_Typical_soil.ipynb?flush_cache=true)  \n",
    "[4.   The R4 studless 120mm chain](https://nbviewer.jupyter.org/urls/dl.dropbox.com/s/3tyjvh3s5n12a8w/04_R4_studless_chain.ipynb?flush_cache=true)  \n",
    "[5.   Dynamic load definition](https://nbviewer.jupyter.org/urls/dl.dropbox.com/s/3tyjvh3s5n12a8w/05_Dynamic_load.ipynb?flush_cache=true)  \n",
    "[6.   Design of chain anchoring system](https://nbviewer.jupyter.org/urls/dl.dropbox.com/s/3tyjvh3s5n12a8w/06_Chain_anchor.ipynb?flush_cache=true)  \n",
    "[7.   Design of uniaxial load cell with inclinometer](https://nbviewer.jupyter.org/urls/dl.dropbox.com/s/3tyjvh3s5n12a8w/07_Load_cell.ipynb?flush_cache=true)  \n"
   ]
  },
  {
   "cell_type": "code",
   "execution_count": 1,
   "metadata": {},
   "outputs": [],
   "source": [
    "# Importing Python modules required for this notebook\n",
    "# (this cell must be executed with \"shift+enter\" before any other Python cell)\n",
    "import numpy as np\n",
    "import pandas as pd\n",
    "import matplotlib.pyplot as plt\n",
    "\n",
    "# Importing \"pandas dataframe\" with dimension exponents for scales calculation\n",
    "DimData = pd.read_excel('resources/DimData.xlsx')"
   ]
  },
  {
   "cell_type": "markdown",
   "metadata": {},
   "source": [
    "## 2. Reduced model scaling\n",
    "\n",
    "[Link for PEC00144 class on Dimensional Analysis](https://nbviewer.jupyter.org/github/mmaiarocha/PEC00144/blob/master/1_Dimensional_Analysis.ipynb)\n"
   ]
  },
  {
   "cell_type": "code",
   "execution_count": 9,
   "metadata": {},
   "outputs": [
    {
     "name": "stdout",
     "output_type": "stream",
     "text": [
      "     L  M  T\n",
      "L    1  0  0\n",
      "rho -3  1  0\n",
      "a    1  0 -2\n"
     ]
    }
   ],
   "source": [
    "ABC  = ['L', 'rho',   'a']     # control quantities are length, density and acceleration\n",
    "LMT  = ['L',   'M',   'T']     # dimension exponents (last three columns of DimData dataframe)    \n",
    "\n",
    "base =  DimData.loc[ABC, LMT]\n",
    "print(base)"
   ]
  },
  {
   "cell_type": "markdown",
   "metadata": {},
   "source": []
  },
  {
   "cell_type": "code",
   "execution_count": 10,
   "metadata": {},
   "outputs": [
    {
     "name": "stdout",
     "output_type": "stream",
     "text": [
      "[[ 1.  -0.  -0. ]\n",
      " [ 3.   1.   0. ]\n",
      " [ 0.5 -0.  -0.5]]\n"
     ]
    }
   ],
   "source": [
    "i_base = np.linalg.inv(base.values)\n",
    "print(i_base)"
   ]
  },
  {
   "cell_type": "markdown",
   "metadata": {},
   "source": [
    " "
   ]
  },
  {
   "cell_type": "code",
   "execution_count": 13,
   "metadata": {},
   "outputs": [
    {
     "name": "stdout",
     "output_type": "stream",
     "text": [
      "       L  M  T\n",
      "F      1  1 -2\n",
      "t      0  0  1\n",
      "mL    -1  1  0\n",
      "sigma -1  1 -2\n"
     ]
    }
   ],
   "source": [
    "param  = ['F', 't', 'mL', 'sigma']      # parameters which scales must be calculated\n",
    "\n",
    "DimMat =  DimData.loc[param, LMT]\n",
    "print(DimMat)\n"
   ]
  },
  {
   "cell_type": "markdown",
   "metadata": {},
   "source": [
    " "
   ]
  },
  {
   "cell_type": "code",
   "execution_count": 14,
   "metadata": {},
   "outputs": [],
   "source": [
    "lbd_length   =  1/10      # 1 nautical mile are 1852 meters\n",
    "lbd_density  =  1/1       # 1 kilogram will remain kilogram\n",
    "lbd_accel    =  1/1       # 1 hour is 3600 seconds\n",
    "\n",
    "scales       =  np.array([lbd_length, lbd_density, lbd_accel])"
   ]
  },
  {
   "cell_type": "markdown",
   "metadata": {},
   "source": [
    " "
   ]
  },
  {
   "cell_type": "code",
   "execution_count": null,
   "metadata": {},
   "outputs": [],
   "source": [
    "unitmass     =  np.prod(scales**D_speed)                 # calculate scale of speed\n",
    "\n",
    "print(D_speed, ': ', L_speed)"
   ]
  }
 ],
 "metadata": {
  "kernelspec": {
   "display_name": "Python 3",
   "language": "python",
   "name": "python3"
  },
  "language_info": {
   "codemirror_mode": {
    "name": "ipython",
    "version": 3
   },
   "file_extension": ".py",
   "mimetype": "text/x-python",
   "name": "python",
   "nbconvert_exporter": "python",
   "pygments_lexer": "ipython3",
   "version": "3.7.1"
  }
 },
 "nbformat": 4,
 "nbformat_minor": 2
}
