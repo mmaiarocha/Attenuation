{
 "cells": [
  {
   "cell_type": "markdown",
   "metadata": {},
   "source": [
    "Universidade Federal do Rio Grande do Sul (UFRGS)   \n",
    "Programa de Pós-Graduação em Engenharia Civil (PPGEC)   \n",
    "\n",
    "# Project PETROBRAS (2018/00147-5): \n",
    "## Attenuation of dynamic loading along mooring lines embedded in clay\n",
    "\n",
    "---\n",
    "_Prof. Marcelo M. Rocha, Dr.techn._ [(ORCID)](https://orcid.org/0000-0001-5640-1020)  \n",
    "Porto Alegre, RS, Brazil \n",
    "___\n",
    "\n",
    "[1.   Introduction](https://nbviewer.jupyter.org/github/mmaiarocha/Attenuation/blob/master/01_Introduction.ipynb?flush_cache=true)  \n",
    "[2.   Reduced model scaling](https://nbviewer.jupyter.org/github/mmaiarocha/Attenuation/blob/master/02_Reduced_model.ipynb?flush_cache=true)  \n",
    "[3.   Typical soil](https://nbviewer.jupyter.org/github/mmaiarocha/Attenuation/blob/master/03_Typical_soil.ipynb?flush_cache=true)  \n",
    "[4.   The R4 studless 120mm chain](https://nbviewer.jupyter.org/github/mmaiarocha/Attenuation/blob/master/04_R4_studless_chain.ipynb?flush_cache=true)  \n",
    "[5.   Dynamic load definition](https://nbviewer.jupyter.org/github/mmaiarocha/Attenuation/blob/master/05_Dynamic_load.ipynb?flush_cache=true)  \n",
    "[6.   Design of chain anchoring system](https://nbviewer.jupyter.org/github/mmaiarocha/Attenuation/blob/master/06_Chain_anchor.ipynb?flush_cache=true)  \n",
    "[7.   Design of uniaxial load cell with inclinometer](https://nbviewer.jupyter.org/github/mmaiarocha/Attenuation/blob/master/07_Load_cell.ipynb?flush_cache=true)  \n"
   ]
  },
  {
   "cell_type": "code",
   "execution_count": 1,
   "metadata": {},
   "outputs": [],
   "source": [
    "# Importing Python modules required for this notebook\n",
    "# (this cell must be executed with \"shift+enter\" before any other Python cell)\n",
    "import numpy as np\n",
    "import pandas as pd\n",
    "import matplotlib.pyplot as plt"
   ]
  },
  {
   "cell_type": "markdown",
   "metadata": {},
   "source": [
    "## 6. Design of chain anchoring system\n",
    "\n",
    "The bottom end of the chain under test must be anchored at the deepest\n",
    "segment of the CPT shaft. At the link point a load cell and an inclinometer\n",
    "will be installed, and the anchoring point must not undergo significant\n",
    "displacements.\n",
    "\n",
    "The idea is to design a modified CPT shaft segment provided with two welded steel \n",
    "fins, orthogonally disposed with respect to the loading direction, which must \n",
    "work mobilizing passive earth pressure as the chain is loaded. \n",
    "The figure below brings the initially proposed geometry for the fins:\n",
    "\n",
    "<img src=\"resources/Chain_anchoring.png\" alt=\"Modified CPT rod segment\" width=\"720\">\n",
    "\n",
    "The scaled design load is defined in [section 5](https://nbviewer.jupyter.org/github/mmaiarocha/Attenuation/blob/master/05_Dynamic_load.ipynb?flush_cache=true) as approximatelly 7kN, \n",
    "to be applied with a maximum horizontal projection of approximatelly \n",
    "$F_{\\rm H,max} \\approx \\cos(\\pi/4) \\cdot 7 \\approx 5$kN (maximum chain leaning angle \n",
    "is $45^\\circ$ ).\n",
    "\n",
    "The soil undrained shear resistance, $s_{\\rm u}$, at the scaled depth of $z_{\\rm max} = 3$m \n",
    "is given by $s_{\\rm u} = 1.4z = 4.2$kPa, as presented in [section 3](https://nbviewer.jupyter.org/github/mmaiarocha/Attenuation/blob/master/03_Typical_soil.ipynb?flush_cache=true). \n",
    "The admissible soil resistance against the fins displacement may be understood as the \n",
    "resistance  of a shallow foundation over clayed soil, given by:\n",
    "\n",
    "$$ F_{\\rm H,adm} \\approx N_{\\rm c} A s_{\\rm u} > F_{\\rm H,max} $$ \n",
    "\n",
    "with $A$ being the supporting surface and $N_{\\rm c}$ conservatively taken as 5.\n",
    "Below is the calculation of $F_{\\rm H,adm}$ for the proposed fin geometry:\n"
   ]
  },
  {
   "cell_type": "code",
   "execution_count": 11,
   "metadata": {},
   "outputs": [
    {
     "name": "stdout",
     "output_type": "stream",
     "text": [
      "Total weight of modified segment is: 16.5kg\n",
      "Admissible fin supporting load is:    7.7kN\n",
      "Resulting safety margin is:           1.5  \n"
     ]
    }
   ],
   "source": [
    "hs = 1.0             # shaft segment length (m)\n",
    "de = 0.036           # CPT shaft external diameter (m)\n",
    "di = 0.016           # CPT shaft internal diameter (m)\n",
    "\n",
    "hf = 0.8             # mean fin height (m)\n",
    "b  = 0.2             # fin width (m)\n",
    "t  = 0.004           # fin thickness (m)\n",
    "z  = 3.0             # mean depth (m)\n",
    "\n",
    "A  = 2*hf*b   + hs*de                       # total pressure surface (m²)\n",
    "V  = 2*hf*b*t + hs*np.pi*(de*de - di*di)/4  # total steel volume (m³)\n",
    "\n",
    "W    = 7850*V        # total weight of modified segment (kg)\n",
    "Nc   = 5.14          # geometrical coefficient\n",
    "su   = 1.4*z         # local undrained shear resistance (kPa)\n",
    "Fadm = Nc*A*su       # admissible fin supporting load (kN)\n",
    "\n",
    "print('Total weight of modified segment is: {0:4.1f}kg'.format(W))\n",
    "print('Admissible fin supporting load is:   {0:4.1f}kN'.format(Fadm))\n",
    "print('Resulting safety margin is:          {0:4.1f}  '.format(Fadm/5.0))\n"
   ]
  },
  {
   "cell_type": "markdown",
   "metadata": {},
   "source": [
    "The calculation above shows that the proposed dimensions are enough for the design load,\n",
    "with a safety factor of approximatelly 1.5. \n",
    "\n",
    "Besides the soil resistance, the fins must also be designed for the resulting bending\n",
    "moments. Maximum moment amplitude will occur along the seam welding, such that the fins\n",
    "behave like cantilever plates fixed at the CPT shaft.\n",
    "Bending stresses are calculated below:\n"
   ]
  },
  {
   "cell_type": "code",
   "execution_count": 9,
   "metadata": {},
   "outputs": [
    {
     "name": "stdout",
     "output_type": "stream",
     "text": [
      "Maximum bending stress is  162MPa\n",
      "Resulting safety margin is 1.5   \n"
     ]
    }
   ],
   "source": [
    "E  =  2.05e8         # steel Young's modulus (kPa)\n",
    "I  = (t**3)/12       # moment of inertia per unit length (m³)\n",
    "fy =  250.           # steel yielding stress\n",
    "\n",
    "p  =  Nc*su          # design pressure over the fins (kPa)\n",
    "M  =  p*b*b/2000     # bending moment per unit lenght (MN)\n",
    "\n",
    "σb =  M*(t/2)/I      # maximum bending stress (MPa)\n",
    "\n",
    "print('Maximum bending stress is  {0:3.0f}MPa'.format(σb))\n",
    "print('Resulting safety margin is {0:3.1f}   '.format(fy/σb))\n"
   ]
  },
  {
   "cell_type": "markdown",
   "metadata": {},
   "source": [
    "From the calculations above, the global safety margin assigned to fins failure\n",
    "turns out to be $S = 1.5\\times1.5 = 2.25$, hence above 2. The required steel plate \n",
    "thickness is 4mm and the modified CPT segment will weight approximately 17kg.\n"
   ]
  },
  {
   "cell_type": "code",
   "execution_count": null,
   "metadata": {},
   "outputs": [],
   "source": []
  }
 ],
 "metadata": {
  "kernelspec": {
   "display_name": "Python 3",
   "language": "python",
   "name": "python3"
  },
  "language_info": {
   "codemirror_mode": {
    "name": "ipython",
    "version": 3
   },
   "file_extension": ".py",
   "mimetype": "text/x-python",
   "name": "python",
   "nbconvert_exporter": "python",
   "pygments_lexer": "ipython3",
   "version": "3.7.1"
  }
 },
 "nbformat": 4,
 "nbformat_minor": 2
}
