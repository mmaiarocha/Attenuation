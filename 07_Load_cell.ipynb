{
 "cells": [
  {
   "cell_type": "markdown",
   "metadata": {},
   "source": [
    "Universidade Federal do Rio Grande do Sul (UFRGS)   \n",
    "Programa de Pós-Graduação em Engenharia Civil (PPGEC)   \n",
    "\n",
    "# Project PETROBRAS (2018/00147-5): \n",
    "## Attenuation of dynamic loading along mooring lines embedded in clay\n",
    "\n",
    "---\n",
    "_Prof. Marcelo M. Rocha, Dr.techn._ [(ORCID)](https://orcid.org/0000-0001-5640-1020)  \n",
    "Porto Alegre, RS, Brazil \n",
    "___\n",
    "\n",
    "[1.   Introduction](https://nbviewer.jupyter.org/github/mmaiarocha/Attenuation/blob/master/01_Introduction.ipynb?flush_cache=true)  \n",
    "[2.   Reduced model scaling](https://nbviewer.jupyter.org/github/mmaiarocha/Attenuation/blob/master/02_Reduced_model.ipynb?flush_cache=true)  \n",
    "[3.   Typical soil](https://nbviewer.jupyter.org/github/mmaiarocha/Attenuation/blob/master/03_Typical_soil.ipynb?flush_cache=true)  \n",
    "[4.   The R4 studless 120mm chain](https://nbviewer.jupyter.org/github/mmaiarocha/Attenuation/blob/master/04_R4_studless_chain.ipynb?flush_cache=true)  \n",
    "[5.   Dynamic load definition](https://nbviewer.jupyter.org/github/mmaiarocha/Attenuation/blob/master/05_Dynamic_load.ipynb?flush_cache=true)  \n",
    "[6.   Design of chain anchoring system](https://nbviewer.jupyter.org/github/mmaiarocha/Attenuation/blob/master/06_Chain_anchor.ipynb?flush_cache=true)  \n",
    "[7.   Design of uniaxial load cell with inclinometer](https://nbviewer.jupyter.org/github/mmaiarocha/Attenuation/blob/master/07_Load_cell.ipynb?flush_cache=true)  \n"
   ]
  },
  {
   "cell_type": "code",
   "execution_count": 1,
   "metadata": {},
   "outputs": [],
   "source": [
    "# Importing Python modules required for this notebook\n",
    "# (this cell must be executed with \"shift+enter\" before any other Python cell)\n",
    "import numpy as np\n",
    "import pandas as pd\n",
    "import matplotlib.pyplot as plt"
   ]
  },
  {
   "cell_type": "markdown",
   "metadata": {},
   "source": [
    "## 7. Design of uniaxial load cell with inclinometer\n",
    "\n",
    "The uniaxial load cell is designed for a 7.1kN bottom scale times a safety margin 2,\n",
    "hence maximum admissible load is 15.2kN. Conditioning electronics shall map this \n",
    "maximum load to approximatelly 3V. \n",
    "\n",
    "The chain under test is connected to the chain anchor [(see section 6)](https://nbviewer.jupyter.org/github/mmaiarocha/Attenuation/blob/master/06_Chain_anchor.ipynb?flush_cache=true)\n",
    "through a _bottom load cell_ (BLC) and to the loading hoist through the a _top load cell_ (TLC).\n",
    "Both BLC and TLC shall have exactly the same design.\n",
    "All connections are accomplished with steel shackles of compatible strength.\n",
    "Each cell is provided with strain gages in full bridge configuration and also with a MEMS\n",
    "accelerometer ADXL203. The accelerometer will provide the chain angle to vertical direction. \n",
    "\n",
    "The basic cell geometry is presented in the following figure:\n",
    "\n",
    "<img src=\"resources/Load_cell.png\" alt=\"Uniaxial load cell\" width=\"540\">\n",
    "\n",
    "Special attention must be drawn to the following features:\n",
    "\n",
    "1. The circular lateral notches are designed to concentrate stresses at the gages position,\n",
    "   according to the following abacus:\n",
    "    <img src=\"resources/stress_concentration.png\" alt=\"Stress concentration factors\" width=\"480\">\n",
    "2. The central area has only 4.5mm thickness, calculated to increase stresses to the \n",
    "   aimed magnitude.\n",
    "3. The 6mm depth channel to be machined at the left side will accomodate the 6 way shielded \n",
    "   cable, providing stress relief and allowing a lower profile for the epoxi waterproof \n",
    "   protection.\n",
    "4. The ADXL203 is a bi-axial accelerometer that will be used as as inclinometer. The\n",
    "   signal must low-pass filtered for only the mean (DC) acceleration value will be used.\n",
    "    <img src=\"resources/ADXL203_photo.jpg\" alt=\"Accelerometer ADXL203\" width=\"240\">\n",
    "   The analog voltage output is factory calibrated as 1V/G.\n",
    "   Dimensions are $5\\times 5$mm and less than 2mm thick, such that it can be\n",
    "   easily covered by the epoxi protection. \n",
    "5. The load cell conditioning must be linear up to $\\approx 100$Hz, what will be \n",
    "   accomplished with a INA118 instrumentation amplifier. The amplification gain must\n",
    "   be set as calculated at the end of this notebook.\n",
    "6. The 4mm hole close to the cable channel is intended for wire connections between\n",
    "   both sides of the cell.\n",
    "   \n",
    "The script below provides the expected stress levels:\n"
   ]
  },
  {
   "cell_type": "code",
   "execution_count": 2,
   "metadata": {},
   "outputs": [
    {
     "name": "stdout",
     "output_type": "stream",
     "text": [
      "Ratio H/h is:             1.36   \n",
      "Ratio r/h is:             0.18   \n",
      "Nominal stress is:       91.47MPa\n",
      "Stress concentration is   2.00   \n",
      "Concentrated stress is: 182.93MPa\n"
     ]
    }
   ],
   "source": [
    "Fmax =  2*7.1                  # bottom scale design load (kN)\n",
    "\n",
    "t    =  0.0125                 # maximum thickness\n",
    "H    =  0.0220 + 0.0250        # maximum width equals chain link width (m)\n",
    "r    =  0.00625                # radius of lateral notches\n",
    "\n",
    "b    =  t - 2*0.004            # central thickness\n",
    "h    =  H - 2*r                # central width\n",
    "σn   =  Fmax/(b*h)             # central nominal stress\n",
    "\n",
    "print('Ratio H/h is:           {0:6.2f}   '.format(H/h))\n",
    "print('Ratio r/h is:           {0:6.2f}   '.format(r/h))\n",
    "print('Nominal stress is:      {0:6.2f}MPa'.format(σn/1000))\n",
    "\n",
    "ks   =  2.0\n",
    "σmax =  ks*σn/1000\n",
    "\n",
    "print('Stress concentration is {0:6.2f}   '.format(ks))\n",
    "print('Concentrated stress is: {0:6.2f}MPa'.format(σmax))\n"
   ]
  },
  {
   "cell_type": "markdown",
   "metadata": {},
   "source": [
    "Hence the maximum stress is less than 200MPa, what is acceptable for a stainless steel of any grade.\n",
    "\n",
    "A Poisson ration $\\nu = 0.3$ is used for the two gages disposed orthogonally to the\n",
    "loading axis. The strain gages are assumed to have a $k = 2.1$ gage factor \n",
    "(with $R = 350\\Omega$ for minimizing current). Young's modulus for steel is \n",
    "assumed as $E = 205$GPa. Expected bridge voltage unbalance is given by:\n",
    "\n",
    "$$ \\frac{\\Delta V}{V} = \\left(2 + 2\\nu\\right) \\frac{k \\sigma_{\\max}}{4E}$$\n",
    "\n",
    "The bridge source voltage will be approximatelly 5V. \n",
    "The script below is used to estimate the required amplification gain for maping the maximum\n",
    "force to 3V. "
   ]
  },
  {
   "cell_type": "code",
   "execution_count": 3,
   "metadata": {},
   "outputs": [
    {
     "name": "stdout",
     "output_type": "stream",
     "text": [
      "Maximum bridge unbalance:     0.00609V\n",
      "Required amplification gain:      493x\n"
     ]
    }
   ],
   "source": [
    "k  =  2.1           # gage factor\n",
    "nu =  0.3           # Poisson ratio\n",
    "E  =  205000        # Young's modulus (MPa)\n",
    "\n",
    "dV =  5.*(2 + 2*nu)*k*σmax/E/4\n",
    "G  =  3./ dV\n",
    "\n",
    "print('Maximum bridge unbalance:    {0:8.5f}V'.format(dV))\n",
    "print('Required amplification gain: {0:8.0f}x'.format( G))\n"
   ]
  },
  {
   "cell_type": "markdown",
   "metadata": {},
   "source": [
    "According to the INA118 datasheet, the required gain of approximatelly 500x can be achieved\n",
    "without frequency attenuation problems:\n",
    "\n",
    "<img src=\"resources/INA118_response.png\" alt=\"INA118 frequency response\" width=\"360\">\n",
    "\n",
    "All calculations are approximated, and the load cell will require a careful calibration.\n"
   ]
  },
  {
   "cell_type": "code",
   "execution_count": null,
   "metadata": {},
   "outputs": [],
   "source": []
  }
 ],
 "metadata": {
  "kernelspec": {
   "display_name": "Python 3",
   "language": "python",
   "name": "python3"
  },
  "language_info": {
   "codemirror_mode": {
    "name": "ipython",
    "version": 3
   },
   "file_extension": ".py",
   "mimetype": "text/x-python",
   "name": "python",
   "nbconvert_exporter": "python",
   "pygments_lexer": "ipython3",
   "version": "3.7.1"
  }
 },
 "nbformat": 4,
 "nbformat_minor": 2
}
