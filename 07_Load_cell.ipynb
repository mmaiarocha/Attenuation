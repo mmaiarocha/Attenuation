{
 "cells": [
  {
   "cell_type": "markdown",
   "metadata": {},
   "source": [
    "Universidade Federal do Rio Grande do Sul (UFRGS)   \n",
    "Programa de Pós-Graduação em Engenharia Civil (PPGEC)   \n",
    "\n",
    "# Project PETROBRAS (2018/00147-5): \n",
    "## Attenuation of dynamic loading along mooring lines embedded in clay\n",
    "\n",
    "---\n",
    "_Prof. Marcelo M. Rocha, Dr.techn._ [(ORCID)](https://orcid.org/0000-0001-5640-1020)  \n",
    "Porto Alegre, RS, Brazil \n",
    "___\n",
    "\n",
    "[1.   Introduction](https://nbviewer.jupyter.org/github/mmaiarocha/Attenuation/blob/master/01_Introduction.ipynb?flush_cache=true)  \n",
    "[2.   Reduced model scaling](https://nbviewer.jupyter.org/github/mmaiarocha/Attenuation/blob/master/02_Reduced_model.ipynb?flush_cache=true)  \n",
    "[3.   Typical soil](https://nbviewer.jupyter.org/github/mmaiarocha/Attenuation/blob/master/03_Typical_soil.ipynb?flush_cache=true)  \n",
    "[4.   The R4 studless 120mm chain](https://nbviewer.jupyter.org/github/mmaiarocha/Attenuation/blob/master/04_R4_studless_chain.ipynb?flush_cache=true)  \n",
    "[5.   Dynamic load definition](https://nbviewer.jupyter.org/github/mmaiarocha/Attenuation/blob/master/05_Dynamic_load.ipynb?flush_cache=true)  \n",
    "[6.   Design of chain anchoring system](https://nbviewer.jupyter.org/github/mmaiarocha/Attenuation/blob/master/06_Chain_anchor.ipynb?flush_cache=true)  \n",
    "[7.   Design of uniaxial load cell with inclinometer](https://nbviewer.jupyter.org/github/mmaiarocha/Attenuation/blob/master/07_Load_cell.ipynb?flush_cache=true)  \n"
   ]
  },
  {
   "cell_type": "code",
   "execution_count": 1,
   "metadata": {},
   "outputs": [],
   "source": [
    "# Importing Python modules required for this notebook\n",
    "# (this cell must be executed with \"shift+enter\" before any other Python cell)\n",
    "import numpy as np\n",
    "import pandas as pd\n",
    "import matplotlib.pyplot as plt"
   ]
  },
  {
   "cell_type": "markdown",
   "metadata": {},
   "source": [
    "## 7. Design of uniaxial load cell with inclinometer\n",
    "\n",
    "<img src=\"resources/Load_cell.png\" alt=\"Uniaxial load cell\" width=\"540\">\n"
   ]
  },
  {
   "cell_type": "code",
   "execution_count": 14,
   "metadata": {},
   "outputs": [
    {
     "name": "stdout",
     "output_type": "stream",
     "text": [
      "Ratio H/h is:             1.36   \n",
      "Ratio r/h is:             0.18   \n",
      "Nominal stress is:       90.42MPa\n",
      "Stress concentration is   1.80   \n",
      "Concentrated stress is: 162.75MPa\n"
     ]
    }
   ],
   "source": [
    "Fmax =  2*7.1                  # bottom scale design load (kN)\n",
    "\n",
    "t    =  0.0125                 # maximum thickness\n",
    "H    =  0.0220 + 0.0254        # maximum width equals chain link width (m)\n",
    "r    =  0.0125/2               # radius of lateral notches\n",
    "\n",
    "b    =  t - 2*0.004            # central thickness\n",
    "h    =  H - 2*r                # central width\n",
    "σn   =  Fmax/(b*h)             # central nominal stress\n",
    "\n",
    "print('Ratio H/h is:           {0:6.2f}   '.format(H/h))\n",
    "print('Ratio r/h is:           {0:6.2f}   '.format(r/h))\n",
    "print('Nominal stress is:      {0:6.2f}MPa'.format(σn/1000))\n",
    "\n",
    "ks =  1.8\n",
    "\n",
    "print('Stress concentration is {0:6.2f}   '.format(ks))\n",
    "print('Concentrated stress is: {0:6.2f}MPa'.format(ks*σn/1000))\n"
   ]
  },
  {
   "cell_type": "markdown",
   "metadata": {},
   "source": [
    "\n",
    "<img src=\"resources/stress_concentration.png\" alt=\"Stress concentration factors\" width=\"480\">\n"
   ]
  },
  {
   "cell_type": "markdown",
   "metadata": {},
   "source": [
    "\n",
    "<img src=\"resources/MPU6050.jpg\" alt=\"Accelerometer MPU6050\" width=\"240\">\n"
   ]
  },
  {
   "cell_type": "code",
   "execution_count": null,
   "metadata": {},
   "outputs": [],
   "source": []
  }
 ],
 "metadata": {
  "kernelspec": {
   "display_name": "Python 3",
   "language": "python",
   "name": "python3"
  },
  "language_info": {
   "codemirror_mode": {
    "name": "ipython",
    "version": 3
   },
   "file_extension": ".py",
   "mimetype": "text/x-python",
   "name": "python",
   "nbconvert_exporter": "python",
   "pygments_lexer": "ipython3",
   "version": "3.7.1"
  }
 },
 "nbformat": 4,
 "nbformat_minor": 2
}
