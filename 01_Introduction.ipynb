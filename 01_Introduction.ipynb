{
 "cells": [
  {
   "cell_type": "markdown",
   "metadata": {},
   "source": [
    "Universidade Federal do Rio Grande do Sul (UFRGS)   \n",
    "Programa de Pós-Graduação em Engenharia Civil (PPGEC)   \n",
    "\n",
    "# Project PETROBRAS (2018/00147-5): \n",
    "## Attenuation of dynamic loading along mooring lines embedded in clay\n",
    "\n",
    "---\n",
    "_Prof. Marcelo M. Rocha, Dr.techn._ [(ORCID)](https://orcid.org/0000-0001-5640-1020)  \n",
    "Porto Alegre, RS, Brazil \n",
    "___\n",
    "\n",
    "[1.   Introduction](https://nbviewer.jupyter.org/github/mmaiarocha/Attenuation/blob/master/01_Introduction.ipynb?flush_cache=true)  \n",
    "[2.   Reduced model scaling](https://nbviewer.jupyter.org/github/mmaiarocha/Attenuation/blob/master/02_Reduced_model.ipynb?flush_cache=true)  \n",
    "[3.   Typical soil](https://nbviewer.jupyter.org/github/mmaiarocha/Attenuation/blob/master/03_Typical_soil.ipynb?flush_cache=true)  \n",
    "[4.   The R4 studless 120mm chain](https://nbviewer.jupyter.org/github/mmaiarocha/Attenuation/blob/master/04_R4_studless_chain.ipynb?flush_cache=true)  \n",
    "[5.   Dynamic load definition](https://nbviewer.jupyter.org/github/mmaiarocha/Attenuation/blob/master/05_Dynamic_load.ipynb?flush_cache=true)  \n",
    "[6.   Design of chain anchoring system](https://nbviewer.jupyter.org/github/mmaiarocha/Attenuation/blob/master/06_Chain_anchor.ipynb?flush_cache=true)  \n",
    "[7.   Design of uniaxial load cell with inclinometer](https://nbviewer.jupyter.org/github/mmaiarocha/Attenuation/blob/master/07_Load_cell.ipynb?flush_cache=true)  \n",
    "[8.   Location of experimental sites](https://nbviewer.jupyter.org/github/mmaiarocha/Attenuation/blob/master/08_Experimental_sites.ipynb?flush_cache=true) \n",
    "\n",
    "(_[Link to Jupyter Notebook viewer](https://nbviewer.jupyter.org/)_)\n"
   ]
  },
  {
   "cell_type": "markdown",
   "metadata": {},
   "source": [
    "## 1. Introduction\n",
    "\n",
    "### 1. Problem context\n",
    "\n",
    "The main goal of this Research Project is the investigation of the static and dynamic\n",
    "load attenuation resulting from soil frictional forces acting along the embedded part \n",
    "of an anchor chain. Mooring line tension makes the embedded chain segment to develop \n",
    "an inverse catenary shape between the deep down point (DDP) and the padeye (LINK),\n",
    "as schematically depicted below (source: Petrobras):\n",
    "\n",
    "<img src=\"resources/Catenary_context.png\" alt=\"Catenary context\" width=\"640\">\n",
    "\n",
    "Both the shape of the catenary and the mobilized frictional forces have significant \n",
    "influence on the total loading capacity of the anchoring system. \n",
    "The experimental investigation is based on field tests using a 1:10 scale reduced model, \n",
    "designed to evaluate the catenary development and the load attenuation in respect to the\n",
    "installation depth, nominal chain angle and soil mechanical properties.\n"
   ]
  },
  {
   "cell_type": "markdown",
   "metadata": {},
   "source": [
    "\n",
    "In this research, the 120ton torpedo anchor (see below, source: Petrobras) is regarded \n",
    "as a fixed point for the chain lower end, with no relevant displacement. \n",
    "The experimental procedure consists in  simultaneously measuring the chain tension at \n",
    "the DDP and the LINK for varying load magnitudes and diving angles. \n",
    "\n",
    "<img src=\"resources/Torpedo_120ton.jpg\" alt=\"Torpedo 120ton\" width=\"480\">\n"
   ]
  },
  {
   "cell_type": "markdown",
   "metadata": {},
   "source": [
    "### 1.2. Typical case\n",
    "\n",
    "In the specific type of mooring line using the torpedo anchor above the TDP and the DDP\n",
    "merges into one single point. The basic data for the so-called _typical case_ configuration \n",
    "is given in the following figure (source: Petrobras).\n",
    "\n",
    "<img src=\"resources/Typical_case.png\" alt=\"Typical case\" width=\"640\">\n",
    "\n",
    "###  1.3 Overall concept for the experimental program\n",
    "\n",
    "The initial concept is to drive a scaled chain element with the aid of a piezocone shaft.\n",
    "The chain must be provided with load cells at both ends for recording the attenuation\n",
    "as resulting from chain loading with a hoist (static component) and an hidraulic atuator\n",
    "(dynamic component), as illustrated below:\n",
    "\n",
    "<img src=\"resources/Concept.png\" alt=\"Typical case\" width=\"720\">\n",
    "\n",
    "In the following sections, all elements that take part on the experimental setup will be \n",
    "described and justified.\n"
   ]
  },
  {
   "cell_type": "code",
   "execution_count": null,
   "metadata": {},
   "outputs": [],
   "source": []
  }
 ],
 "metadata": {
  "kernelspec": {
   "display_name": "Python [default]",
   "language": "python",
   "name": "python3"
  },
  "language_info": {
   "codemirror_mode": {
    "name": "ipython",
    "version": 3
   },
   "file_extension": ".py",
   "mimetype": "text/x-python",
   "name": "python",
   "nbconvert_exporter": "python",
   "pygments_lexer": "ipython3",
   "version": "3.5.5"
  }
 },
 "nbformat": 4,
 "nbformat_minor": 2
}
