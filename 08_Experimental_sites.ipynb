{ 
 "cells": [
  {
   "cell_type": "markdown",
   "metadata": {},
   "source": [
    "Universidade Federal do Rio Grande do Sul (UFRGS)   \n",
    "Programa de Pós-Graduação em Engenharia Civil (PPGEC)   \n",
    "\n",
    "# Project PETROBRAS (2018/00147-5): \n",
    "## Attenuation of dynamic loading along mooring lines embedded in clay\n",
    "\n",
    "---\n",
    "_Prof. Marcelo M. Rocha, Dr.techn._ [(ORCID)](https://orcid.org/0000-0001-5640-1020)  \n",
    "Porto Alegre, RS, Brazil \n",
    "___\n",
    "\n",
    "[1.   Introduction](https://nbviewer.jupyter.org/github/mmaiarocha/Attenuation/blob/master/01_Introduction.ipynb?flush_cache=true)  \n",
    "[2.   Reduced model scaling](https://nbviewer.jupyter.org/github/mmaiarocha/Attenuation/blob/master/02_Reduced_model.ipynb?flush_cache=true)  \n",
    "[3.   Typical soil](https://nbviewer.jupyter.org/github/mmaiarocha/Attenuation/blob/master/03_Typical_soil.ipynb?flush_cache=true)  \n",
    "[4.   The R4 studless 120mm chain](https://nbviewer.jupyter.org/github/mmaiarocha/Attenuation/blob/master/04_R4_studless_chain.ipynb?flush_cache=true)  \n",
    "[5.   Dynamic load definition](https://nbviewer.jupyter.org/github/mmaiarocha/Attenuation/blob/master/05_Dynamic_load.ipynb?flush_cache=true)  \n",
    "[6.   Design of chain anchoring system](https://nbviewer.jupyter.org/github/mmaiarocha/Attenuation/blob/master/06_Chain_anchor.ipynb?flush_cache=true)  \n",
    "[7.   Design of uniaxial load cell with inclinometer](https://nbviewer.jupyter.org/github/mmaiarocha/Attenuation/blob/master/07_Load_cell.ipynb?flush_cache=true)  \n",
    "[8.   Location of experimental sites](https://nbviewer.jupyter.org/github/mmaiarocha/Attenuation/blob/master/08_Experimental_sites.ipynb?flush_cache=true)  \n"
   ]
  },
  {
   "cell_type": "markdown",
   "metadata": {},
   "source": [
    "## 8. Locação dos sítios experimentais\n",
    "\n",
    "__Atenção!!!__ As duas pessoas mencionadas abaixo foram abordadas uma única vez\n",
    "pelos Profs. Fernando, Edgar e Marcelo, tendo na ocasião concordado em disponibilizar\n",
    "os referidos locais para os estudos. Este foi apenas o início de um relacionamento\n",
    "que ainda deverá ser cultivado, ou seja, novas abordagens devem ser feitas com cuidado \n",
    "e sem excesso de confiança, sempre muito respeitosamente! Eventualmente, pessoas que\n",
    "não participaram do primeiro contato deverão explicar claramente quem são e o que\n",
    "pretendem fazer ali, fazendo menção ao contato anterior.\n",
    "\n",
<<<<<<< HEAD:08_Experimental_sites.ipynb
    "### 8.1. Site A: em meio ao arrozal do Sr. Gelson Francisco Martins \n",
=======
    "<img src=\"resources/Brasil_Amarras_table.png\" alt=\"Brasil Amarras Table\" width=\"800\">\n",
>>>>>>> d402b0ca41234c190f6954c1b09a5b58bca41c47:.ipynb_checkpoints/04_R4_studless_chain-checkpoint.ipynb
    "\n",
    "__Descrição__: passando a Ponte da Congonha, cerca de 1km adiante à esquerda,\n",
    "fica a entrada do arrozal do Sr. Gelson (048-999860048). Para chegar ao local\n",
    "disponibilizado deve-se entrar na fazendo e percorrer uma estrada de chão\n",
    "ao longo de algumas centenas de metros até um local não inundável da plantação. \n",
    "\n",
<<<<<<< HEAD:08_Experimental_sites.ipynb
    "[GPS coordinates for Site A](https://goo.gl/maps/s39iTHsn1wqysMXu6)\n",
    "\n",
    "<img src=\"resources/Site_A_satellite.png\" alt=\"Site_A_satellite\" width=\"720\">\n",
    "\n",
    "\n",
    "### 8.2. Site B: terras do Sr. Manoel dos Passos Rafael (Seu Passinho)\n",
    "\n",
    "__Descrição__: Pouco antes da Ponte da Congonha, sentido Tubarão-litoral, à direita, \n",
    "estão as terras do _Seu Passinho_ (048-999583149). Ficou combinado que ele seria \n",
    "remunerado pelo uso do terreno para os estudos.\n",
=======
    "<img src=\"resources/Brasil_Amarras_dimensions.png\" alt=\"Chain Dimensions\" width=\"640\">\n"
   ]
  },
  {
   "cell_type": "markdown",
   "metadata": {},
   "source": [
    "The choice of a comercial chain to be made for modelling the prototype is of great\n",
    "importance, for it will directly affects the load attenuation to be measured. \n",
    "The table below indicates the available options.\n",
>>>>>>> d402b0ca41234c190f6954c1b09a5b58bca41c47:.ipynb_checkpoints/04_R4_studless_chain-checkpoint.ipynb
    "\n",
    "[GPS coordinates for Site B](https://goo.gl/maps/e3HSPCHKUe2fi1Ko9)\n",
    "\n",
<<<<<<< HEAD:08_Experimental_sites.ipynb
    "<img src=\"resources/Site_B_satellite.png\" alt=\"Site_B_satellite\" width=\"720\">\n"
=======
    "From the options above, one can se that the best approximation for length scale\n",
    "$\\lambda_L = 1:10$ is the 11mm entry. Although slightly thinner, the mass per unit\n",
    "length is $\\mu_L = 2.70{\\rm kg/m}$, what quite close to the value $2.88{\\rm kg/m}$ resulting from the application of scale $λ_{μ_L} = 1:100$. \n",
    "\n",
    "For keeping the possibility of comparing results, two chain grades have be acquired, as\n",
    "shown below:\n",
    "\n",
    "<img src=\"resources/Selected_chains.jpg\" alt=\"Selected chains\" width=\"480\">\n",
    "\n",
    "For connecting the chain to the load cells at both ends, the following steel shackle\n",
    "has been selected:\n",
    "\n",
    "<img src=\"resources/shackle.png\" alt=\"Selected shackle\" width=\"600\">\n"
>>>>>>> d402b0ca41234c190f6954c1b09a5b58bca41c47:.ipynb_checkpoints/04_R4_studless_chain-checkpoint.ipynb
   ]
  },
  {
   "cell_type": "code",
   "execution_count": null,
   "metadata": {},
   "outputs": [],
   "source": []
  }
 ],
 "metadata": {
  "kernelspec": {
   "display_name": "Python [default]",
   "language": "python",
   "name": "python3"
  },
  "language_info": {
   "codemirror_mode": {
    "name": "ipython",
    "version": 3
   },
   "file_extension": ".py",
   "mimetype": "text/x-python",
   "name": "python",
   "nbconvert_exporter": "python",
   "pygments_lexer": "ipython3",
   "version": "3.5.5"
  }
 },
 "nbformat": 4,
 "nbformat_minor": 2
}
